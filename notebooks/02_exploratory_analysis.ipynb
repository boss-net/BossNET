{
 "cells": [
  {
   "cell_type": "markdown",
   "metadata": {},
   "source": [
    "# Exploratory Data Analysis of Bangladesh Student Data\n",
    "\n",
    "This notebook explores patterns and trends in educational data across Bangladesh."
   ]
  },
  {
   "cell_type": "code",
   "execution_count": null,
   "metadata": {},
   "source": [
    "import pandas as pd\n",
    "import numpy as np\n",
    "import matplotlib.pyplot as plt\n",
    "import seaborn as sns\n",
    "from pathlib import Path\n",
    "\n",
    "# Set plotting style\n",
    "plt.style.use('seaborn')\n",
    "sns.set_palette('husl')"
   ]
  },
  {
   "cell_type": "markdown",
   "metadata": {},
   "source": [
    "## 1. Load Processed Data"
   ]
  },
  {
   "cell_type": "code",
   "execution_count": null,
   "metadata": {},
   "source": [
    "# Load cleaned data\n",
    "data_path = Path('../processed_data/cleaned/cleaned_student_data.csv')\n",
    "df = pd.read_csv(data_path)\n",
    "\n",
    "print(\"Dataset Overview:\")\n",
    "print(f\"Number of records: {len(df)}\")\n",
    "print(f\"Number of features: {len(df.columns)}\")\n",
    "print(\"\\nFeatures:\")\n",
    "print(df.columns.tolist())"
   ]
  },
  {
   "cell_type": "markdown",
   "metadata": {},
   "source": [
    "## 2. Geographic Distribution"
   ]
  },
  {
   "cell_type": "code",
   "execution_count": null,
   "metadata": {},
   "source": [
    "# Analyze student distribution by division\n",
    "plt.figure(figsize=(12, 6))\n",
    "division_counts = df['division'].value_counts()\n",
    "sns.barplot(x=division_counts.index, y=division_counts.values)\n",
    "plt.title('Student Distribution by Division')\n",
    "plt.xticks(rotation=45)\n",
    "plt.ylabel('Number of Students')\n",
    "plt.show()"
   ]
  },
  {
   "cell_type": "markdown",
   "metadata": {},
   "source": [
    "## 3. Academic Performance Analysis"
   ]
  },
  {
   "cell_type": "code",
   "execution_count": null,
   "metadata": {},
   "source": [
    "# GPA distribution\n",
    "plt.figure(figsize=(10, 6))\n",
    "sns.histplot(data=df, x='gpa', bins=20)\n",
    "plt.title('Distribution of GPAs')\n",
    "plt.xlabel('GPA')\n",
    "plt.ylabel('Count')\n",
    "plt.show()\n",
    "\n",
    "# Performance by division\n",
    "plt.figure(figsize=(12, 6))\n",
    "sns.boxplot(data=df, x='division', y='gpa')\n",
    "plt.title('GPA Distribution by Division')\n",
    "plt.xticks(rotation=45)\n",
    "plt.show()"
   ]
  },
  {
   "cell_type": "markdown",
   "metadata": {},
   "source": [
    "## 4. Attendance Patterns"
   ]
  },
  {
   "cell_type": "code",
   "execution_count": null,
   "metadata": {},
   "source": [
    "# Calculate attendance rate\n",
    "df['attendance_rate'] = df['days_present'] / df['total_school_days']\n",
    "\n",
    "# Plot attendance distribution\n",
    "plt.figure(figsize=(10, 6))\n",
    "sns.histplot(data=df, x='attendance_rate', bins=20)\n",
    "plt.title('Distribution of Attendance Rates')\n",
    "plt.xlabel('Attendance Rate')\n",
    "plt.ylabel('Count')\n",
    "plt.show()\n",
    "\n",
    "# Correlation between attendance and performance\n",
    "plt.figure(figsize=(8, 6))\n",
    "sns.scatterplot(data=df, x='attendance_rate', y='gpa')\n",
    "plt.title('Attendance Rate vs GPA')\n",
    "plt.xlabel('Attendance Rate')\n",
    "plt.ylabel('GPA')\n",
    "plt.show()"
   ]
  },
  {
   "cell_type": "markdown",
   "metadata": {},
   "source": [
    "## 5. Demographic Analysis"
   ]
  },
  {
   "cell_type": "code",
   "execution_count": null,
   "metadata": {},
   "source": [
    "# Gender distribution\n",
    "plt.figure(figsize=(8, 6))\n",
    "gender_counts = df['gender'].value_counts()\n",
    "plt.pie(gender_counts.values, labels=gender_counts.index, autopct='%1.1f%%')\n",
    "plt.title('Gender Distribution')\n",
    "plt.show()\n",
    "\n",
    "# Performance by gender\n",
    "plt.figure(figsize=(8, 6))\n",
    "sns.boxplot(data=df, x='gender', y='gpa')\n",
    "plt.title('GPA Distribution by Gender')\n",
    "plt.show()"
   ]
  },
  {
   "cell_type": "markdown",
   "metadata": {},
   "source": [
    "## 6. Statistical Summary"
   ]
  },
  {
   "cell_type": "code",
   "execution_count": null,
   "metadata": {},
   "source": [
    "# Calculate summary statistics\n",
    "numeric_columns = ['gpa', 'attendance_rate']\n",
    "summary_stats = df[numeric_columns].describe()\n",
    "print(\"Summary Statistics:\")\n",
    "print(summary_stats)\n",
    "\n",
    "# Calculate correlations\n",
    "correlation_matrix = df[numeric_columns].corr()\n",
    "plt.figure(figsize=(8, 6))\n",
    "sns.heatmap(correlation_matrix, annot=True, cmap='coolwarm')\n",
    "plt.title('Correlation Matrix')\n",
    "plt.show()"
   ]
  },
  {
   "cell_type": "markdown",
   "metadata": {},
   "source": [
    "## 7. Key Findings\n",
    "\n",
    "1. Geographic Distribution:\n",
    "   - Distribution of students across divisions\n",
    "   - Regional variations in enrollment\n",
    "\n",
    "2. Academic Performance:\n",
    "   - Overall GPA distribution\n",
    "   - Regional performance differences\n",
    "\n",
    "3. Attendance Patterns:\n",
    "   - Attendance rate distribution\n",
    "   - Correlation with academic performance\n",
    "\n",
    "4. Demographic Insights:\n",
    "   - Gender distribution\n",
    "   - Performance across demographics\n",
    "\n",
    "## Next Steps\n",
    "\n",
    "1. Conduct detailed statistical tests\n",
    "2. Analyze trends over time\n",
    "3. Investigate specific regional patterns\n",
    "4. Create detailed reports for stakeholders"
   ]
  }
 ],
 "metadata": {
  "kernelspec": {
   "display_name": "Python 3",
   "language": "python",
   "name": "python3"
  },
  "language_info": {
   "codemirror_mode": {
    "name": "ipython",
    "version": 3
   },
   "file_extension": ".py",
   "mimetype": "text/x-python",
   "name": "python",
   "nbconvert_exporter": "python",
   "pygments_lexer": "ipython3",
   "version": "3.8.0"
  }
 },
 "nbformat": 4,
 "nbformat_minor": 4
}
