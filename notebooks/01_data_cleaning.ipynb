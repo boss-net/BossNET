{
 "cells": [
  {
   "cell_type": "markdown",
   "metadata": {},
   "source": [
    "# Data Cleaning and Preprocessing\n",
    "\n",
    "This notebook demonstrates the cleaning and preprocessing of educational data from various Bangladesh sources:\n",
    "- BANBEIS (Bangladesh Bureau of Educational Information and Statistics)\n",
    "- Education Board Results\n",
    "- DSHE (Directorate of Secondary and Higher Education)\n",
    "- DPE (Directorate of Primary Education)"
   ]
  },
  {
   "cell_type": "code",
   "execution_count": null,
   "metadata": {},
   "source": [
    "import pandas as pd\n",
    "import numpy as np\n",
    "from pathlib import Path\n",
    "import sys\n",
    "\n",
    "# Add project root to Python path\n",
    "sys.path.append('..')\n",
    "from src.data_processing.data_processor import DataProcessor"
   ]
  },
  {
   "cell_type": "markdown",
   "metadata": {},
   "source": [
    "## 1. Load Raw Data\n",
    "\n",
    "Load data from different sources and inspect their structure."
   ]
  },
  {
   "cell_type": "code",
   "execution_count": null,
   "metadata": {},
   "source": [
    "# Initialize data processor\n",
    "processor = DataProcessor()\n",
    "\n",
    "# Load data from different sources\n",
    "student_data = processor.load_student_data('academic')\n",
    "student_data.head()"
   ]
  },
  {
   "cell_type": "markdown",
   "metadata": {},
   "source": [
    "## 2. Data Quality Assessment\n",
    "\n",
    "Check for common data quality issues:\n",
    "- Missing values\n",
    "- Duplicates\n",
    "- Invalid values\n",
    "- Inconsistent formats"
   ]
  },
  {
   "cell_type": "code",
   "execution_count": null,
   "metadata": {},
   "source": [
    "def assess_data_quality(df):\n",
    "    \"\"\"Assess data quality and return summary.\"\"\"\n",
    "    quality_report = {\n",
    "        'total_rows': len(df),\n",
    "        'missing_values': df.isnull().sum(),\n",
    "        'duplicates': df.duplicated().sum(),\n",
    "        'data_types': df.dtypes\n",
    "    }\n",
    "    return quality_report\n",
    "\n",
    "quality_report = assess_data_quality(student_data)\n",
    "print(\"Data Quality Report:\")\n",
    "for key, value in quality_report.items():\n",
    "    print(f\"\\n{key.replace('_', ' ').title()}:\")\n",
    "    print(value)"
   ]
  },
  {
   "cell_type": "markdown",
   "metadata": {},
   "source": [
    "## 3. Data Cleaning\n",
    "\n",
    "Apply cleaning operations to address identified issues."
   ]
  },
  {
   "cell_type": "code",
   "execution_count": null,
   "metadata": {},
   "source": [
    "# Clean the data using our processor\n",
    "cleaned_data = processor.clean_student_data(student_data)\n",
    "\n",
    "# Verify cleaning results\n",
    "print(\"\\nCleaning Results:\")\n",
    "print(f\"Original shape: {student_data.shape}\")\n",
    "print(f\"Cleaned shape: {cleaned_data.shape}\")\n",
    "\n",
    "# Show sample of cleaned data\n",
    "cleaned_data.head()"
   ]
  },
  {
   "cell_type": "markdown",
   "metadata": {},
   "source": [
    "## 4. Data Standardization\n",
    "\n",
    "Standardize values and formats across different data sources."
   ]
  },
  {
   "cell_type": "code",
   "execution_count": null,
   "metadata": {},
   "source": [
    "def standardize_geographic_data(df):\n",
    "    \"\"\"Standardize division and district names.\"\"\"\n",
    "    # Standard mappings for Bangladesh administrative divisions\n",
    "    division_mapping = {\n",
    "        'dhaka': 'Dhaka',\n",
    "        'chittagong': 'Chattogram',\n",
    "        'khulna': 'Khulna',\n",
    "        'rajshahi': 'Rajshahi',\n",
    "        'sylhet': 'Sylhet',\n",
    "        'barisal': 'Barishal',\n",
    "        'rangpur': 'Rangpur',\n",
    "        'mymensingh': 'Mymensingh'\n",
    "    }\n",
    "    \n",
    "    df = df.copy()\n",
    "    if 'division' in df.columns:\n",
    "        df['division'] = df['division'].str.lower().map(division_mapping)\n",
    "    return df\n",
    "\n",
    "# Standardize geographic information\n",
    "standardized_data = standardize_geographic_data(cleaned_data)\n",
    "\n",
    "# Show unique values in standardized columns\n",
    "if 'division' in standardized_data.columns:\n",
    "    print(\"\\nUnique Divisions:\")\n",
    "    print(standardized_data['division'].unique())"
   ]
  },
  {
   "cell_type": "markdown",
   "metadata": {},
   "source": [
    "## 5. Data Validation\n",
    "\n",
    "Validate cleaned and standardized data against expected formats and ranges."
   ]
  },
  {
   "cell_type": "code",
   "execution_count": null,
   "metadata": {},
   "source": [
    "def validate_data(df):\n",
    "    \"\"\"Validate data against business rules.\"\"\"\n",
    "    validation_results = {\n",
    "        'invalid_student_ids': 0,\n",
    "        'invalid_dates': 0,\n",
    "        'invalid_grades': 0\n",
    "    }\n",
    "    \n",
    "    # Validate student IDs (assuming format requirements)\n",
    "    if 'student_id' in df.columns:\n",
    "        validation_results['invalid_student_ids'] = (\n",
    "            df['student_id'].str.match(r'^S\\d{4}$') == False\n",
    "        ).sum()\n",
    "    \n",
    "    # Validate dates\n",
    "    if 'date_of_birth' in df.columns:\n",
    "        validation_results['invalid_dates'] = pd.to_datetime(\n",
    "            df['date_of_birth'], errors='coerce'\n",
    "        ).isna().sum()\n",
    "    \n",
    "    # Validate grades\n",
    "    if 'gpa' in df.columns:\n",
    "        validation_results['invalid_grades'] = (\n",
    "            (df['gpa'] < 0) | (df['gpa'] > 5)\n",
    "        ).sum()\n",
    "    \n",
    "    return validation_results\n",
    "\n",
    "# Run validation\n",
    "validation_results = validate_data(standardized_data)\n",
    "print(\"\\nValidation Results:\")\n",
    "for key, value in validation_results.items():\n",
    "    print(f\"{key.replace('_', ' ').title()}: {value}\")"
   ]
  },
  {
   "cell_type": "markdown",
   "metadata": {},
   "source": [
    "## 6. Save Processed Data\n",
    "\n",
    "Save the cleaned and validated data for further analysis."
   ]
  },
  {
   "cell_type": "code",
   "execution_count": null,
   "metadata": {},
   "source": [
    "# Create processed data directory if it doesn't exist\n",
    "processed_dir = Path('../processed_data/cleaned')\n",
    "processed_dir.mkdir(parents=True, exist_ok=True)\n",
    "\n",
    "# Save processed data\n",
    "output_file = processed_dir / 'cleaned_student_data.csv'\n",
    "standardized_data.to_csv(output_file, index=False)\n",
    "print(f\"\\nProcessed data saved to: {output_file}\")"
   ]
  },
  {
   "cell_type": "markdown",
   "metadata": {},
   "source": [
    "## Summary\n",
    "\n",
    "This notebook demonstrated:\n",
    "1. Loading raw educational data\n",
    "2. Assessing data quality\n",
    "3. Cleaning and standardizing data\n",
    "4. Validating processed data\n",
    "5. Saving results for further analysis\n",
    "\n",
    "Next steps:\n",
    "- Perform exploratory data analysis\n",
    "- Generate performance metrics\n",
    "- Create visualizations\n",
    "- Conduct statistical analysis"
   ]
  }
 ],
 "metadata": {
  "kernelspec": {
   "display_name": "Python 3",
   "language": "python",
   "name": "python3"
  },
  "language_info": {
   "codemirror_mode": {
    "name": "ipython",
    "version": 3
   },
   "file_extension": ".py",
   "mimetype": "text/x-python",
   "name": "python",
   "nbconvert_exporter": "python",
   "pygments_lexer": "ipython3",
   "version": "3.8.0"
  }
 },
 "nbformat": 4,
 "nbformat_minor": 4
}
