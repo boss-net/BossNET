{
 "cells": [
  {
   "cell_type": "markdown",
   "metadata": {},
   "source": [
    "# Student Performance Analysis\n",
    "\n",
    "Detailed analysis of student performance metrics across Bangladesh educational institutions."
   ]
  },
  {
   "cell_type": "code",
   "execution_count": null,
   "metadata": {},
   "source": [
    "import pandas as pd\n",
    "import numpy as np\n",
    "import matplotlib.pyplot as plt\n",
    "import seaborn as sns\n",
    "from scipy import stats\n",
    "from pathlib import Path\n",
    "\n",
    "# Set plotting style\n",
    "plt.style.use('seaborn')\n",
    "sns.set_palette('husl')\n",
    "\n",
    "# Load the data\n",
    "data_path = Path('../processed_data/cleaned/cleaned_student_data.csv')\n",
    "df = pd.read_csv(data_path)"
   ]
  },
  {
   "cell_type": "markdown",
   "metadata": {},
   "source": [
    "## 1. Overall Performance Metrics"
   ]
  },
  {
   "cell_type": "code",
   "execution_count": null,
   "metadata": {},
   "source": [
    "def calculate_performance_metrics(data):\n",
    "    \"\"\"Calculate key performance metrics.\"\"\"\n",
    "    metrics = {\n",
    "        'average_gpa': data['gpa'].mean(),\n",
    "        'median_gpa': data['gpa'].median(),\n",
    "        'std_gpa': data['gpa'].std(),\n",
    "        'passing_rate': (data['gpa'] >= 2.0).mean() * 100,\n",
    "        'excellence_rate': (data['gpa'] >= 4.0).mean() * 100\n",
    "    }\n",
    "    return pd.Series(metrics)\n",
    "\n",
    "overall_metrics = calculate_performance_metrics(df)\n",
    "print(\"Overall Performance Metrics:\")\n",
    "print(overall_metrics)"
   ]
  },
  {
   "cell_type": "markdown",
   "metadata": {},
   "source": [
    "## 2. Performance Trends by Subject"
   ]
  },
  {
   "cell_type": "code",
   "execution_count": null,
   "metadata": {},
   "source": [
    "# Assuming we have subject-wise scores\n",
    "subjects = ['Mathematics', 'Science', 'English', 'Bangla', 'Social_Science']\n",
    "\n",
    "# Create subject performance plot\n",
    "plt.figure(figsize=(12, 6))\n",
    "subject_means = df[subjects].mean()\n",
    "subject_stds = df[subjects].std()\n",
    "\n",
    "# Plot mean scores with error bars\n",
    "plt.errorbar(subjects, subject_means, yerr=subject_stds, fmt='o')\n",
    "plt.title('Average Performance by Subject')\n",
    "plt.xticks(rotation=45)\n",
    "plt.ylabel('Average Score')\n",
    "plt.show()"
   ]
  },
  {
   "cell_type": "markdown",
   "metadata": {},
   "source": [
    "## 3. Performance Distribution Analysis"
   ]
  },
  {
   "cell_type": "code",
   "execution_count": null,
   "metadata": {},
   "source": [
    "def analyze_performance_distribution(data):\n",
    "    \"\"\"Analyze the distribution of performance scores.\"\"\"\n",
    "    # Create performance categories\n",
    "    conditions = [\n",
    "        (data['gpa'] >= 4.0),\n",
    "        (data['gpa'] >= 3.5) & (data['gpa'] < 4.0),\n",
    "        (data['gpa'] >= 3.0) & (data['gpa'] < 3.5),\n",
    "        (data['gpa'] >= 2.0) & (data['gpa'] < 3.0),\n",
    "        (data['gpa'] < 2.0)\n",
    "    ]\n",
    "    categories = ['Excellent', 'Very Good', 'Good', 'Average', 'Needs Improvement']\n",
    "    data['performance_category'] = np.select(conditions, categories)\n",
    "    \n",
    "    # Plot distribution\n",
    "    plt.figure(figsize=(10, 6))\n",
    "    sns.countplot(data=data, x='performance_category', order=categories)\n",
    "    plt.title('Distribution of Performance Categories')\n",
    "    plt.xticks(rotation=45)\n",
    "    plt.ylabel('Number of Students')\n",
    "    plt.show()\n",
    "    \n",
    "    return data['performance_category'].value_counts()\n",
    "\n",
    "performance_distribution = analyze_performance_distribution(df)\n",
    "print(\"\\nPerformance Distribution:\")\n",
    "print(performance_distribution)"
   ]
  },
  {
   "cell_type": "markdown",
   "metadata": {},
   "source": [
    "## 4. Factors Affecting Performance"
   ]
  },
  {
   "cell_type": "code",
   "execution_count": null,
   "metadata": {},
   "source": [
    "def analyze_performance_factors(data):\n",
    "    \"\"\"Analyze various factors affecting performance.\"\"\"\n",
    "    # Attendance vs Performance\n",
    "    plt.figure(figsize=(10, 6))\n",
    "    sns.regplot(data=data, x='attendance_rate', y='gpa')\n",
    "    plt.title('Attendance Rate vs GPA')\n",
    "    plt.show()\n",
    "    \n",
    "    # Calculate correlation\n",
    "    correlation = data['attendance_rate'].corr(data['gpa'])\n",
    "    print(f\"Correlation between attendance and GPA: {correlation:.3f}\")\n",
    "    \n",
    "    # Regional variations\n",
    "    plt.figure(figsize=(12, 6))\n",
    "    sns.boxplot(data=data, x='division', y='gpa')\n",
    "    plt.title('GPA Distribution by Division')\n",
    "    plt.xticks(rotation=45)\n",
    "    plt.show()\n",
    "    \n",
    "    # Perform ANOVA test for regional differences\n",
    "    divisions = data['division'].unique()\n",
    "    division_groups = [data[data['division'] == div]['gpa'] for div in divisions]\n",
    "    f_stat, p_value = stats.f_oneway(*division_groups)\n",
    "    print(f\"\\nANOVA test for regional differences:\")\n",
    "    print(f\"F-statistic: {f_stat:.3f}\")\n",
    "    print(f\"p-value: {p_value:.3f}\")\n",
    "\n",
    "analyze_performance_factors(df)"
   ]
  },
  {
   "cell_type": "markdown",
   "metadata": {},
   "source": [
    "## 5. Performance Gap Analysis"
   ]
  },
  {
   "cell_type": "code",
   "execution_count": null,
   "metadata": {},
   "source": [
    "def analyze_performance_gaps(data):\n",
    "    \"\"\"Analyze performance gaps across different demographics.\"\"\"\n",
    "    # Gender gap\n",
    "    gender_stats = data.groupby('gender')['gpa'].agg(['mean', 'std'])\n",
    "    print(\"Performance by Gender:\")\n",
    "    print(gender_stats)\n",
    "    \n",
    "    # Perform t-test for gender gap\n",
    "    male_scores = data[data['gender'] == 'Male']['gpa']\n",
    "    female_scores = data[data['gender'] == 'Female']['gpa']\n",
    "    t_stat, p_value = stats.ttest_ind(male_scores, female_scores)\n",
    "    print(f\"\\nT-test for gender gap:\")\n",
    "    print(f\"t-statistic: {t_stat:.3f}\")\n",
    "    print(f\"p-value: {p_value:.3f}\")\n",
    "    \n",
    "    # Urban-Rural gap\n",
    "    if 'location_type' in data.columns:\n",
    "        location_stats = data.groupby('location_type')['gpa'].agg(['mean', 'std'])\n",
    "        print(\"\\nPerformance by Location:\")\n",
    "        print(location_stats)\n",
    "\n",
    "analyze_performance_gaps(df)"
   ]
  },
  {
   "cell_type": "markdown",
   "metadata": {},
   "source": [
    "## 6. Recommendations Based on Analysis"
   ]
  },
  {
   "cell_type": "markdown",
   "metadata": {},
   "source": [
    "Based on the analysis above, we can make the following recommendations:\n",
    "\n",
    "1. Performance Improvement:\n",
    "   - Focus areas for different performance categories\n",
    "   - Subject-specific interventions\n",
    "   - Attendance improvement strategies\n",
    "\n",
    "2. Regional Support:\n",
    "   - Additional resources for underperforming regions\n",
    "   - Best practice sharing between regions\n",
    "   - Targeted intervention programs\n",
    "\n",
    "3. Gap Reduction:\n",
    "   - Strategies to address gender gaps\n",
    "   - Urban-rural equity measures\n",
    "   - Resource allocation recommendations\n",
    "\n",
    "4. Monitoring and Evaluation:\n",
    "   - Key metrics to track\n",
    "   - Regular assessment schedule\n",
    "   - Performance indicator framework"
   ]
  }
 ],
 "metadata": {
  "kernelspec": {
   "display_name": "Python 3",
   "language": "python",
   "name": "python3"
  },
  "language_info": {
   "codemirror_mode": {
    "name": "ipython",
    "version": 3
   },
   "file_extension": ".py",
   "mimetype": "text/x-python",
   "name": "python",
   "nbconvert_exporter": "python",
   "pygments_lexer": "ipython3",
   "version": "3.8.0"
  }
 },
 "nbformat": 4,
 "nbformat_minor": 4
}
